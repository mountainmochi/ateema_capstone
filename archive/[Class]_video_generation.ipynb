{
  "nbformat": 4,
  "nbformat_minor": 0,
  "metadata": {
    "colab": {
      "provenance": [],
      "include_colab_link": true
    },
    "kernelspec": {
      "name": "python3",
      "display_name": "Python 3"
    },
    "language_info": {
      "name": "python"
    }
  },
  "cells": [
    {
      "cell_type": "markdown",
      "metadata": {
        "id": "view-in-github",
        "colab_type": "text"
      },
      "source": [
        "<a href=\"https://colab.research.google.com/github/alexacheui/ateema_capstone/blob/main/%5BClass%5D_video_generation.ipynb\" target=\"_parent\"><img src=\"https://colab.research.google.com/assets/colab-badge.svg\" alt=\"Open In Colab\"/></a>"
      ]
    },
    {
      "cell_type": "code",
      "execution_count": null,
      "metadata": {
        "colab": {
          "base_uri": "https://localhost:8080/"
        },
        "id": "rHr_HkPf1Apn",
        "outputId": "b0240084-fb7f-4384-aafb-e992e70af09f"
      },
      "outputs": [
        {
          "output_type": "stream",
          "name": "stdout",
          "text": [
            "Mounted at /content/drive/\n"
          ]
        }
      ],
      "source": [
        "from google.colab import drive\n",
        "drive.mount('/content/drive/')"
      ]
    },
    {
      "cell_type": "code",
      "source": [
        "import os\n",
        "os.chdir('/content/drive/shared-with-me/ADSP Capstone/Ateema')"
      ],
      "metadata": {
        "id": "stQFplfE1QEd",
        "colab": {
          "base_uri": "https://localhost:8080/",
          "height": 158
        },
        "outputId": "f62ff059-4399-4c4e-e52d-3d8bd5f9a6ab"
      },
      "execution_count": null,
      "outputs": [
        {
          "output_type": "error",
          "ename": "FileNotFoundError",
          "evalue": "[Errno 2] No such file or directory: '/content/drive/shared-with-me/ADSP Capstone/Ateema'",
          "traceback": [
            "\u001b[0;31m---------------------------------------------------------------------------\u001b[0m",
            "\u001b[0;31mFileNotFoundError\u001b[0m                         Traceback (most recent call last)",
            "\u001b[0;32m<ipython-input-19-e6b2bb289649>\u001b[0m in \u001b[0;36m<cell line: 2>\u001b[0;34m()\u001b[0m\n\u001b[1;32m      1\u001b[0m \u001b[0;32mimport\u001b[0m \u001b[0mos\u001b[0m\u001b[0;34m\u001b[0m\u001b[0;34m\u001b[0m\u001b[0m\n\u001b[0;32m----> 2\u001b[0;31m \u001b[0mos\u001b[0m\u001b[0;34m.\u001b[0m\u001b[0mchdir\u001b[0m\u001b[0;34m(\u001b[0m\u001b[0;34m'/content/drive/shared-with-me/ADSP Capstone/Ateema'\u001b[0m\u001b[0;34m)\u001b[0m\u001b[0;34m\u001b[0m\u001b[0;34m\u001b[0m\u001b[0m\n\u001b[0m",
            "\u001b[0;31mFileNotFoundError\u001b[0m: [Errno 2] No such file or directory: '/content/drive/shared-with-me/ADSP Capstone/Ateema'"
          ]
        }
      ]
    },
    {
      "cell_type": "code",
      "source": [
        "!pwd"
      ],
      "metadata": {
        "colab": {
          "base_uri": "https://localhost:8080/"
        },
        "id": "r7_F6P813peM",
        "outputId": "e464acdc-0b6c-4fdc-85ba-9837b086c57d"
      },
      "execution_count": null,
      "outputs": [
        {
          "output_type": "stream",
          "name": "stdout",
          "text": [
            "/content\n"
          ]
        }
      ]
    },
    {
      "cell_type": "code",
      "source": [
        "import re\n",
        "import os\n",
        "import pandas as pd\n",
        "from PIL import Image\n",
        "import requests\n",
        "\n",
        "class RTFProcessor:\n",
        "    def __init__(self, file_path):\n",
        "        self.file_path = file_path\n",
        "\n",
        "    def process_rtf(self):\n",
        "        # Read and clean RTF content\n",
        "        with open(self.file_path, 'r', encoding='utf-8') as file:\n",
        "            content = file.read()\n",
        "\n",
        "        content = re.sub(r'\\\\[a-zA-Z]+\\d*', '', content)  # Remove commands\n",
        "        content = re.sub(r'{|}', '', content)             # Remove braces\n",
        "        content = re.sub(r'\\\\\\*\\\\[^ ]+ ', '', content)    # Remove special characters\n",
        "        content = re.sub(r'\\n|\\r', '', content)           # Remove newlines\n",
        "\n",
        "        # Extract titles and URLs\n",
        "        title_pattern = r'\"Title\": \"(.*?)\"'\n",
        "        url_pattern = r'\"URL\": \"(.*?)\"'\n",
        "        titles = re.findall(title_pattern, content)\n",
        "        urls = re.findall(url_pattern, content)\n",
        "\n",
        "        # Filter out entries with \"No URL available\"\n",
        "        filtered_data = {\"Title\": [], \"URL\": []}\n",
        "        for title, url in zip(titles, urls):\n",
        "            if url != \"No URL available\":\n",
        "                filtered_data[\"Title\"].append(title)\n",
        "                filtered_data[\"URL\"].append(url)\n",
        "\n",
        "        # Create a DataFrame\n",
        "        df = pd.DataFrame(filtered_data)\n",
        "\n",
        "        # Create 'video_image' folder if it doesn't exist\n",
        "        if not os.path.exists('video_image'):\n",
        "            os.makedirs('video_image')\n",
        "\n",
        "        # Download and process images\n",
        "        for index, row in df.iterrows():\n",
        "            title = row['Title'].replace(' ', '_')\n",
        "            url = row['URL']\n",
        "            image_path = os.path.join('video_image', f\"{title}.png\")\n",
        "\n",
        "            # Download the image\n",
        "            response = requests.get(url)\n",
        "            if response.status_code == 200:\n",
        "                with open(image_path, 'wb') as file:\n",
        "                    file.write(response.content)\n",
        "                print(f\"Downloaded: {image_path}\")\n",
        "\n",
        "                # Convert to PNG and save\n",
        "                img = Image.open(image_path).convert(\"RGB\")\n",
        "                png_filename = os.path.splitext(os.path.basename(image_path))[0] + \".png\"\n",
        "                png_path = os.path.join('video_image', png_filename)\n",
        "                img.save(png_path, \"PNG\")\n",
        "                print(f\"Converted and saved: {png_path}\")\n",
        "            else:\n",
        "                print(f\"Failed to download: {image_path}\")\n",
        "\n",
        "    def stable_diff_img_gen(self, json_data):\n",
        "        # Simulate loading a model (mocking torch.hub.load())\n",
        "        try:\n",
        "            # Placeholder for the model, since we're not actually loading it\n",
        "            model = None\n",
        "        except Exception as e:\n",
        "            print(f\"Error loading model from hub: {e}\")\n",
        "            return\n",
        "\n",
        "        # Parse JSON data into a Python dictionary\n",
        "        value = json.loads(json_data)\n",
        "\n",
        "        # Access the \"message\" part and store it in value[\"generation\"]\n",
        "        value[\"generation\"] = value[\"message\"]\n",
        "\n",
        "        # Define a function to clean the text\n",
        "        def clean_text(content):\n",
        "            # Remove unwanted characters and formatting\n",
        "            content = content.replace('**', '')  # Remove bold markdown\n",
        "            content = content.replace('\\n', '')  # Remove newlines\n",
        "            return content\n",
        "\n",
        "        # Clean the text in value[\"generation\"]\n",
        "        cleaned_content = clean_text(value[\"generation\"])\n",
        "\n",
        "        # Define a function to generate an image with label using StableDiffusion model\n",
        "        def generate_image_with_label(place):\n",
        "            # Simulate model inference (since we're not actually using the model)\n",
        "            # Generate a placeholder image\n",
        "            image = Image.new('RGB', (800, 600), color='white')\n",
        "            draw = ImageDraw.Draw(image)\n",
        "            font = ImageFont.load_default()\n",
        "            text_position = (10, 10)\n",
        "            draw.text(text_position, place, font=font, fill=\"black\")\n",
        "            return image\n",
        "\n",
        "        # Generate and save the images (mocking actual image generation)\n",
        "        for entry in value[\"URL Information\"]:\n",
        "            if entry[\"URL\"] == \"No URL available\":\n",
        "                place = entry[\"Title\"]\n",
        "                image = generate_image_with_label(place)\n",
        "                image_path = f\"/content/drive/MyDrive/New/{place.replace(' ', '_')}.png\"\n",
        "                image.save(image_path)\n",
        "                print(f\"Image saved for {place}\")\n",
        "\n",
        "        print(\"Images with labels generated for each place.\")\n",
        "\n",
        "if __name__ == \"__main__\":\n",
        "    # Path to the RTF file\n",
        "    file_path = 'Final_Output.rtf'\n",
        "\n",
        "    # Create an instance of the RTFProcessor\n",
        "    processor = RTFProcessor(file_path)\n",
        "\n",
        "    # Process the RTF file\n",
        "    processor.process_rtf()\n"
      ],
      "metadata": {
        "colab": {
          "base_uri": "https://localhost:8080/"
        },
        "id": "mW4ebviCUUWn",
        "outputId": "48d010f3-6b90-4cf1-bfb4-b69eddbe0d35"
      },
      "execution_count": null,
      "outputs": [
        {
          "output_type": "stream",
          "name": "stdout",
          "text": [
            "Downloaded: video_image/Alinea.png\n",
            "Converted and saved: video_image/Alinea.png\n",
            "Downloaded: video_image/City_Winery.png\n",
            "Converted and saved: video_image/City_Winery.png\n",
            "Downloaded: video_image/The_Art_Institute_of_Chicago.png\n",
            "Converted and saved: video_image/The_Art_Institute_of_Chicago.png\n",
            "Downloaded: video_image/Navy_Pier.png\n",
            "Converted and saved: video_image/Navy_Pier.png\n"
          ]
        }
      ]
    },
    {
      "cell_type": "code",
      "source": [
        "import json\n",
        "import torch\n",
        "from PIL import Image, ImageDraw, ImageFont\n",
        "\n",
        "class VideoGenerator:\n",
        "    def __init__(self):\n",
        "        pass\n",
        "\n",
        "    def stable_diff_img_gen(self, json_data):\n",
        "        # Simulate loading a model (mocking torch.hub.load())\n",
        "        try:\n",
        "            # Placeholder for the model, since we're not actually loading it\n",
        "            model = None\n",
        "        except Exception as e:\n",
        "            print(f\"Error loading model from hub: {e}\")\n",
        "            return\n",
        "\n",
        "        # Parse JSON data into a Python dictionary\n",
        "        value = json.loads(json_data)\n",
        "\n",
        "        # Access the \"message\" part and store it in value[\"generation\"]\n",
        "        value[\"generation\"] = value[\"message\"]\n",
        "\n",
        "        # Define a function to clean the text\n",
        "        def clean_text(content):\n",
        "            # Remove unwanted characters and formatting\n",
        "            content = content.replace('**', '')  # Remove bold markdown\n",
        "            content = content.replace('\\n', '')  # Remove newlines\n",
        "            return content\n",
        "\n",
        "        # Clean the text in value[\"generation\"]\n",
        "        cleaned_content = clean_text(value[\"generation\"])\n",
        "\n",
        "        # Define a function to generate an image with label using StableDiffusion model\n",
        "        def generate_image_with_label(place):\n",
        "            # Simulate model inference (since we're not actually using the model)\n",
        "            # Generate a placeholder image\n",
        "            image = Image.new('RGB', (800, 600), color='white')\n",
        "            draw = ImageDraw.Draw(image)\n",
        "            font = ImageFont.load_default()\n",
        "            text_position = (10, 10)\n",
        "            draw.text(text_position, place, font=font, fill=\"black\")\n",
        "            return image\n",
        "\n",
        "        # Generate and save the images (mocking actual image generation)\n",
        "        for entry in value[\"URL Information\"]:\n",
        "            if entry[\"URL\"] == \"No URL available\":\n",
        "                place = entry[\"Title\"]\n",
        "                image = generate_image_with_label(place)\n",
        "                image_path = f\"/content/drive/MyDrive/New/{place.replace(' ', '_')}.png\"\n",
        "                image.save(image_path)\n",
        "                print(f\"Image saved for {place}\")\n",
        "\n",
        "        print(\"Images with labels generated for each place.\")\n",
        "\n",
        "if __name__ == \"__main__\":\n",
        "    # Sample JSON data\n",
        "    json_data = '''\n",
        "    {\n",
        "      \"message\": \"Hello AlabamaScick! I'm Ateema, your AI tour guide. I'm thrilled to help you plan an unforgettable trip to Chicago with your group of 42 people. Based on your preferences for gourmet dining, wine and cocktails, live entertainment, immersive cultural activities, outdoor adventures, kid-friendly educational experiences, and local shopping, here are my top recommendations: **Dining:** 1. Alinea - a Michelin three-star restaurant offering an avant-garde culinary experience. 2. Girl & the Goat - a Mediterranean-inspired eatery with creative dishes. **Beverages:** 1. The Violet Hour - a stylish cocktail bar serving innovative drinks. 2. City Winery - a wine and music venue featuring live performances. **Entertainment:** 1. Second City Comedy Club - an iconic comedy club showcasing improv and stand-up acts. 2. The Vic Theatre - a historic theater hosting live music, comedy, and film events. **Cultural Activities:** 1. The Art Institute of Chicago - a world-renowned museum featuring Impressionist, Post-Impressionist, and American art. 2. The Museum of Contemporary Art (MCA) - a premier institution showcasing modern and contemporary art. **Outdoor Activities:** 1. Navy Pier - a lakefront attraction offering boat cruises, outdoor concerts, and stunning city views. 2. Millennium Park - a scenic green space featuring iconic landmarks like the Cloud Gate sculpture. **Educational Activities:** 1. The Field Museum - a leading natural history museum with interactive exhibits and Sue, the T. rex skeleton. 2. The Chicago Children's Museum at Navy Pier - an engaging destination for kids with hands-on activities. **Shopping:** 1. The Magnificent Mile - a famous shopping stretch along Michigan Avenue featuring high-end boutiques. 2. Wicker Park & Bucktown - trendy neighborhoods offering unique local shops and vintage stores. I hope these recommendations help you plan an amazing trip to Chicago! Enjoy your visit!\",\n",
        "      \"URL Information\": [\n",
        "        {\n",
        "          \"Title\": \"Alinea\",\n",
        "          \"Match\": \"Yes\",\n",
        "          \"URL\": \"https://cdn.choosechicago.com/uploads/2019/08/Alinea_a083d00f-1240-4d65-a8a5-5c23209c0e58-900x600.jpg\"\n",
        "        },\n",
        "        {\n",
        "          \"Title\": \"Girl & the Goat\",\n",
        "          \"Match\": \"No\",\n",
        "          \"URL\": \"No URL available\"\n",
        "        },\n",
        "        {\n",
        "          \"Title\": \"The Violet Hour\",\n",
        "          \"Match\": \"Yes\",\n",
        "          \"URL\": \"No URL available\"\n",
        "        },\n",
        "        {\n",
        "          \"Title\": \"City Winery\",\n",
        "          \"Match\": \"Yes\",\n",
        "          \"URL\": \"https://cdn.choosechicago.com/uploads/2019/06/CC_RIVERWALK_02-900x601.jpg\"\n",
        "        },\n",
        "        {\n",
        "          \"Title\": \"Second City Comedy Club\",\n",
        "          \"Match\": \"No\",\n",
        "          \"URL\": \"No URL available\"\n",
        "        },\n",
        "        {\n",
        "          \"Title\": \"The Vic Theatre\",\n",
        "          \"Match\": \"No\",\n",
        "          \"URL\": \"No URL available\"\n",
        "        },\n",
        "        {\n",
        "          \"Title\": \"The Art Institute of Chicago\",\n",
        "          \"Match\": \"Yes\",\n",
        "          \"URL\": \"https://cdn.choosechicago.com/uploads/2019/08/07195792-e1566185494402-900x530.jpg\"\n",
        "        },\n",
        "        {\n",
        "          \"Title\": \"The Museum of Contemporary Art (MCA)\",\n",
        "          \"Match\": \"No\",\n",
        "          \"URL\": \"No URL available\"\n",
        "        },\n",
        "        {\n",
        "          \"Title\": \"Navy Pier\",\n",
        "          \"Match\": \"Yes\",\n",
        "          \"URL\": \"https://cdn.choosechicago.com/uploads/2019/05/NAVY-PIER-79-900x601.jpg\"\n",
        "        },\n",
        "        {\n",
        "          \"Title\": \"Millennium Park\",\n",
        "          \"Match\": \"Yes\",\n",
        "          \"URL\": \"No URL available\"\n",
        "        },\n",
        "        {\n",
        "          \"Title\": \"The Field Museum\",\n",
        "          \"Match\": \"Yes\",\n",
        "          \"URL\": \"No URL available\"\n",
        "        },\n",
        "        {\n",
        "          \"Title\": \"The Chicago Children's Museum at Navy Pier\",\n",
        "          \"Match\": \"No\",\n",
        "          \"URL\": \"No URL available\"\n",
        "        },\n",
        "        {\n",
        "          \"Title\": \"The Magnificent Mile\",\n",
        "          \"Match\": \"Yes\",\n",
        "          \"URL\": \"No URL available\"\n",
        "        },\n",
        "        {\n",
        "          \"Title\": \"Wicker Park & Bucktown\",\n",
        "          \"Match\": \"No\",\n",
        "          \"URL\": \"No URL available\"\n",
        "        }\n",
        "      ]\n",
        "    }\n",
        "    '''\n",
        "\n",
        "    # Create an instance of VideoGenerator\n",
        "    generator = VideoGenerator()\n",
        "\n",
        "    # Call the stable_diff_img_gen method\n",
        "    generator.stable_diff_img_gen(json_data)"
      ],
      "metadata": {
        "id": "YsM29QRUCki1",
        "colab": {
          "base_uri": "https://localhost:8080/"
        },
        "outputId": "5f2b6a8e-34c4-4c85-ff94-2aa87820cd18"
      },
      "execution_count": null,
      "outputs": [
        {
          "output_type": "stream",
          "name": "stdout",
          "text": [
            "Image saved for Girl & the Goat\n",
            "Image saved for The Violet Hour\n",
            "Image saved for Second City Comedy Club\n",
            "Image saved for The Vic Theatre\n",
            "Image saved for The Museum of Contemporary Art (MCA)\n",
            "Image saved for Millennium Park\n",
            "Image saved for The Field Museum\n",
            "Image saved for The Chicago Children's Museum at Navy Pier\n",
            "Image saved for The Magnificent Mile\n",
            "Image saved for Wicker Park & Bucktown\n",
            "Images with labels generated for each place.\n"
          ]
        }
      ]
    }
  ]
}