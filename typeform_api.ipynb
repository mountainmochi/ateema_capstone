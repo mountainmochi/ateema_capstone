{
  "cells": [
    {
      "cell_type": "markdown",
      "metadata": {
        "id": "view-in-github",
        "colab_type": "text"
      },
      "source": [
        "<a href=\"https://colab.research.google.com/github/alexacheui/ateema_capstone/blob/main/typeform_api.ipynb\" target=\"_parent\"><img src=\"https://colab.research.google.com/assets/colab-badge.svg\" alt=\"Open In Colab\"/></a>"
      ]
    },
    {
      "cell_type": "code",
      "execution_count": 1,
      "metadata": {
        "colab": {
          "base_uri": "https://localhost:8080/"
        },
        "id": "B3KXYJ4xhOPV",
        "outputId": "74d6f5e8-3d42-49e7-c6f0-26c38d6c3e5d"
      },
      "outputs": [
        {
          "output_type": "stream",
          "name": "stdout",
          "text": [
            "\u001b[2K     \u001b[90m━━━━━━━━━━━━━━━━━━━━━━━━━━━━━━━━━━━━━━━━\u001b[0m \u001b[32m669.1/669.1 kB\u001b[0m \u001b[31m4.3 MB/s\u001b[0m eta \u001b[36m0:00:00\u001b[0m\n",
            "\u001b[2K     \u001b[90m━━━━━━━━━━━━━━━━━━━━━━━━━━━━━━━━━━━━━━━━\u001b[0m \u001b[32m307.7/307.7 kB\u001b[0m \u001b[31m5.4 MB/s\u001b[0m eta \u001b[36m0:00:00\u001b[0m\n",
            "\u001b[?25h"
          ]
        }
      ],
      "source": [
        "!pip install pymongo --quiet\n",
        "!pip install flask pyngrok --quiet"
      ]
    },
    {
      "cell_type": "code",
      "execution_count": null,
      "metadata": {
        "colab": {
          "base_uri": "https://localhost:8080/"
        },
        "id": "NxqZ9vfSRDXa",
        "outputId": "9065c898-4425-409b-d573-cb9953bd77ba"
      },
      "outputs": [
        {
          "output_type": "stream",
          "name": "stdout",
          "text": [
            "Successfully connected to MongoDB.\n",
            "Public URL: https://f1f1-35-229-241-137.ngrok-free.app\n",
            " * Serving Flask app '__main__'\n",
            " * Debug mode: off\n"
          ]
        },
        {
          "output_type": "stream",
          "name": "stderr",
          "text": [
            "INFO:werkzeug:\u001b[31m\u001b[1mWARNING: This is a development server. Do not use it in a production deployment. Use a production WSGI server instead.\u001b[0m\n",
            " * Running on http://127.0.0.1:5000\n",
            "INFO:werkzeug:\u001b[33mPress CTRL+C to quit\u001b[0m\n"
          ]
        },
        {
          "output_type": "stream",
          "name": "stdout",
          "text": [
            "**Received Data:**\n",
            "{'event_id': '01J16M9WFJ41297Y98F3XT5HTD', 'event_type': 'form_response', 'form_response': {'form_id': 'FkcBezxr', 'token': '01J16M9WFJ41297Y98F3XT5HTD', 'landed_at': '2024-06-25T02:41:22Z', 'submitted_at': '2024-06-25T02:41:22Z', 'definition': {'id': 'FkcBezxr', 'title': 'My new form', 'fields': [{'id': 'cyC2jup2h9qd', 'ref': '596e32db-f5ef-422a-85b0-1e64723cff81', 'type': 'short_text', 'title': 'First name', 'properties': {}}, {'id': 'Ap9DQevjbydK', 'ref': '8b4f0707-c312-4658-94b0-d215a63fced2', 'type': 'short_text', 'title': 'Last name', 'properties': {}}, {'id': 'eZm0OtqIP460', 'ref': '600b2743-94a4-49bd-a9e9-2651313a9c5f', 'type': 'phone_number', 'title': 'Phone number', 'properties': {}}, {'id': 'RWH1jVaQrbdz', 'ref': 'dfe478d9-e2e2-4e75-9623-6280b9567724', 'type': 'email', 'title': 'Email', 'properties': {}}, {'id': 'rAKa2WQMixJL', 'ref': '86a2d1bb-5371-47bd-9e59-8556125ea162', 'type': 'picture_choice', 'title': '*Travel is always exciting! which town are you visiting? *', 'properties': {}, 'choices': [{'id': 'DY3CZULWgArZ', 'ref': '7e0667be-b148-4ae8-81f1-bc21e9018cfd', 'label': 'Chicago'}]}, {'id': 'BY5tjjwQC5lf', 'ref': 'f45bdf6c-b2eb-4423-8b8a-1677f4c2fbc1', 'type': 'date', 'title': '*Welcome to **{{field:86a2d1bb-5371-47bd-9e59-8556125ea162}}** **{{field:596e32db-f5ef-422a-85b0-1e64723cff81}}**! When you will be in town?*', 'properties': {}}, {'id': 'FCagADf3uRdu', 'ref': '50d8c256-abe8-4468-a878-c3c2f642dcdf', 'type': 'date', 'title': '*When will be your last data in **{{field:86a2d1bb-5371-47bd-9e59-8556125ea162}}**?*', 'properties': {}}, {'id': 'lfeufmbCPCEz', 'ref': '3dbd47ab-24a4-496a-becc-10b841b746d1', 'type': 'multiple_choice', 'title': 'What best describes your group?', 'properties': {}, 'choices': [{'id': 'w52wD6iioWkm', 'ref': 'c97887f4-1e83-40d2-b7b2-9b1a056455cb', 'label': 'Solo Trip'}, {'id': '5N5OnUgL4zHw', 'ref': '1224ef24-daf4-48f0-9601-c4574fdac924', 'label': 'Family with kids under 12'}, {'id': 'UK2GJWMu2f2e', 'ref': 'f4d5b0f3-0e54-4129-8654-e78d9c42ab92', 'label': 'Family with kids under 18'}, {'id': 'CtpZbsKJqvR8', 'ref': '45abd42d-3688-4aa2-aeee-b4a788a274ad', 'label': 'Family of all ages'}, {'id': 'E8hBJzJUW8xF', 'ref': '94d8161a-4cb4-497c-bd99-ec13ee6d9fcd', 'label': 'Single couple'}, {'id': 'pIdsuE3UpK0b', 'ref': 'e50fee79-abba-4eea-8437-cd68c0a3ed74', 'label': 'Married couple'}, {'id': '13dcbOQndvQ6', 'ref': '1078a64a-2239-4c19-83ff-0340704eddd7', 'label': \"Girl's trip\"}, {'id': 'MzW4W59ynsBC', 'ref': '703dd1ef-0342-4477-9fb8-a1b5b61a2aa9', 'label': \"Guy's trip\"}]}, {'id': 'yvzfhrJGnNd4', 'ref': 'ea5b2e23-1a3c-4b23-9587-0636245abe06', 'type': 'number', 'title': 'How many people in your group?', 'properties': {}}, {'id': 'r6q2KgYA61uY', 'ref': '7000fcfd-d0c5-437b-bd67-c4463afb01c5', 'type': 'dropdown', 'title': 'Is there an average age for your group?', 'properties': {}, 'choices': [{'id': 'BimVSZTvqJ3v', 'ref': 'c5dd7c80-6b5a-4707-a393-24b57c2b5dda', 'label': '20 -'}, {'id': 'Wj4AiGAo5F58', 'ref': '206825ce-3001-402d-93d7-79762ba6f219', 'label': '21-30'}, {'id': 'kTMe4LbyNmRe', 'ref': '3d097e7a-c479-4bc2-a423-47d3df4b1cf7', 'label': '31-40'}, {'id': 'TwrpQQy2sbdC', 'ref': 'a9cbb1c5-5ded-465c-8109-f4f358b0d670', 'label': '51-60'}, {'id': 'I1tWEcd5yCv3', 'ref': '3fc624bc-376f-4fda-b091-cb9026af0f86', 'label': '61 +'}, {'id': 'UP9epJVVeEpV', 'ref': 'e67a5e07-9940-4a72-a272-47905c29d4f2', 'label': 'I am coming with vary age group'}]}, {'id': 'Q0Y2A4gdYYkQ', 'ref': 'e8ebb88d-7395-402b-9730-d34844bf6950', 'type': 'picture_choice', 'title': 'Do you prefer dining at:', 'properties': {}, 'allow_multiple_selections': True, 'choices': [{'id': 'DFWczZ8VQnPv', 'ref': '39ee64ad-f92c-4bea-826c-7a542382b57b', 'label': 'Gourmet'}, {'id': 'b2MHhh4yCSLX', 'ref': 'edc95aaf-46ba-4f7b-b3a3-243d8088a9b1', 'label': 'Chicago Classics'}, {'id': 'Z6LSBjcs8WK0', 'ref': '27599d07-c453-47da-8b96-05b5931f5faa', 'label': 'Outdoor Dining'}, {'id': '2tUWlpSdyj3k', 'ref': 'ac7cf291-fabf-4e88-8e64-969398713abd', 'label': 'Family-Friendly'}, {'id': 'a3gavLZjcbVi', 'ref': '53f3d46e-b21b-4dd2-a581-e097086bf8df', 'label': 'Food Tours'}]}, {'id': 'pOVME9ndnwHi', 'ref': 'f4319a26-04b3-48ea-a6fc-af7eabace8f9', 'type': 'picture_choice', 'title': 'Which of the following beverage experiences interest you?', 'properties': {}, 'allow_multiple_selections': True, 'choices': [{'id': 'RAo163K3HHEa', 'ref': '865e0ac6-23ec-434c-bd7f-f7d71d6b075e', 'label': 'Wine & Wineries'}, {'id': 'xlk9gId7gatU', 'ref': '2cf896ba-4624-40bb-ab7b-a4e0e2e59c90', 'label': 'Cocktails'}, {'id': 'cW5yiWNufHsL', 'ref': '7800aa45-c319-4240-b455-796244923744', 'label': 'Speakeasies'}, {'id': 'DkeVR3yqZfVH', 'ref': 'a8436e34-e810-433b-90a6-ed2a7036868d', 'label': 'Bars'}, {'id': 'FTTOwUNJa3eN', 'ref': 'ee8fec52-b1f6-4108-b0e1-4e039f7277db', 'label': 'Rooftop Bars'}, {'id': 'ZPGpqxYvkIN0', 'ref': 'c5e64fb1-c950-476a-be95-c1c737bbc80e', 'label': 'Craft Beer & Breweries'}, {'id': '9gNJ2rLj7kCm', 'ref': 'f7fe7ff2-5852-4469-ada1-590ea7b0cff5', 'label': 'Distilleries'}, {'id': 'xD7YHoCECuxZ', 'ref': '60030d65-2cda-4f77-a4ba-3c1403014049', 'label': 'Sports Bars'}, {'id': 'BOvI7tZzMK0t', 'ref': '2996c96e-4398-4cce-99a6-616ce86e9047', 'label': 'Irish Pubs'}, {'id': 'GNSp23ZUOepS', 'ref': '6b546456-adcb-4ae1-8e02-9dce85b2e5d3', 'label': 'Waterfront Bars'}]}, {'id': 'i20pTq5YLPG5', 'ref': 'beb9e940-cfa8-4c70-8043-4092017b03d5', 'type': 'picture_choice', 'title': 'What type of entertainment are you interested in?', 'properties': {}, 'allow_multiple_selections': True, 'choices': [{'id': 'NyvgwfeH8n1K', 'ref': 'da44ecc5-c93e-4bf9-a084-3239aa8970f5', 'label': 'Live Music Venues'}, {'id': 'W1degYpuqlSV', 'ref': 'cb85ac02-65f1-4380-b1d5-2756864a48d2', 'label': 'Clubs'}, {'id': '8CQRRCeqAoL5', 'ref': 'd187169d-ed5c-4ef8-87a6-2466f4addb96', 'label': 'Concerts'}, {'id': 'I645HSoEZdTT', 'ref': '887dd214-3fb0-4a08-903f-7fff8cd1afc2', 'label': 'Festivals'}, {'id': '1ggfQECLXNZU', 'ref': '4b97bff3-9f78-45d9-824f-8e3f101664f3', 'label': 'Theater & Performing Arts'}, {'id': 'NbQGuKOg6z2D', 'ref': '7af0edac-6998-450d-a552-adbd9e8004c0', 'label': 'Comedy & Improv'}]}, {'id': 'UzA7MJW1BXfm', 'ref': '836dea07-5aa2-4738-86dd-3b2b99f1c7bd', 'type': 'picture_choice', 'title': 'Which cultural activities appeal to you?', 'properties': {}, 'allow_multiple_selections': True, 'choices': [{'id': 'cVwjqoEUrCab', 'ref': 'dd0ef2ba-a22e-4de5-919f-ac2c45697c14', 'label': 'Art'}, {'id': 'j563Q4H25KDS', 'ref': '26eae12b-3575-4219-ad81-10c98a1dcc27', 'label': 'Immersive Experiences'}, {'id': 'nd3BHzAwONHg', 'ref': '2b29b196-378e-4ed2-9dbf-87662232528a', 'label': 'Sporting Events'}, {'id': 'mYFUiSz1OS4r', 'ref': '55f99c1f-3e13-4627-8abc-b3ef163d64d0', 'label': 'Attractions'}, {'id': 'K57JOWrCzm5I', 'ref': '74113ad1-dfc1-4783-819f-c6044c2744ee', 'label': 'Neighborhoods'}, {'id': 'm8I0CQBSj1c8', 'ref': 'adfea3a0-fcca-49f9-8817-bd7f8b6dce2d', 'label': 'Architecture'}, {'id': 'LkgUrGguq4aj', 'ref': '06a36801-f9ac-44e6-a565-36b7ded22638', 'label': 'History'}, {'id': 'oMMeZoU5X3Tz', 'ref': 'ab271918-5a4b-4a20-9329-f255bddbd3a1', 'label': 'Street Art and Instagram-Friendly Attractions'}]}, {'id': 'bmbHlysBqST7', 'ref': '0992f5f7-835a-4c24-95d7-b4dc9197c55b', 'type': 'picture_choice', 'title': 'Which outdoor activities appeal to you?', 'properties': {}, 'allow_multiple_selections': True, 'choices': [{'id': 'OAaDUJP6Qz7g', 'ref': 'fff4550f-e27b-4d3b-8185-568069f2dcde', 'label': 'Outdoor Recreation and Parks'}, {'id': 'o4190GwSZx4T', 'ref': '4ce58af4-f6ea-4467-a9b7-b588b9f4961b', 'label': 'Boat Tours & Cruises'}, {'id': 'yNmNAUQ39Ds7', 'ref': '98a98170-5aab-480e-bcda-9277189adb8e', 'label': 'Rentals: Bike, Segway, Boat, Kayak'}, {'id': 'Wl2BpglMeEEV', 'ref': '4da9bd19-4ffe-4612-9530-8e345c02d6fd', 'label': 'Lakefront'}, {'id': 'pBzjk9rMsrzZ', 'ref': '3dc2fa4d-70fd-4b3f-9b2b-831f569f6bbc', 'label': 'River Walk'}, {'id': 'WInU0nzmpFJH', 'ref': '03a7e462-0291-4556-950b-bf041a0574c7', 'label': 'Walking'}]}, {'id': 'hf9QYFH3lG1K', 'ref': '918983ce-2859-4f08-8c44-8bf643cfd7ef', 'type': 'picture_choice', 'title': 'Which educational experiences appeal to you?', 'properties': {}, 'allow_multiple_selections': True, 'choices': [{'id': '90N9WkGuyBQD', 'ref': '42efa109-c100-401e-88c0-956fae91d0fb', 'label': 'Kid-Friendly Museums and Attractions'}, {'id': 'sCymfd4s8cLa', 'ref': '8f4b8d74-9ffe-4b8a-a847-b189b979db39', 'label': 'Art Galleries'}, {'id': 'HSvppDWCPYa6', 'ref': 'ffbbff8f-9c10-4af1-92e4-d88fa0e6f183', 'label': 'Landmarks'}, {'id': 'mC5mCoTACv3F', 'ref': '84fb809a-056b-4d73-8f0c-0069d71b673a', 'label': 'Cooking Classes'}, {'id': 'dN3bc9pM36ZQ', 'ref': '70218851-b2cd-4d7c-a570-8a5135b1d487', 'label': 'Haunted Tours'}]}, {'id': 'IEWD0A9w3mg3', 'ref': '3e1c9fb6-bdd8-4a94-a725-4c4383673952', 'type': 'picture_choice', 'title': 'Are you interested in:', 'properties': {}, 'allow_multiple_selections': True, 'choices': [{'id': 'ssDNc7DPlTu6', 'ref': 'cbd84dce-bde4-4752-b98d-ff4df3587935', 'label': 'Shopping'}, {'id': 'Cy9iOi47qerM', 'ref': 'b322f66d-b14a-4f2f-a27b-50db6944d50a', 'label': 'Local Markets and Artisanal Shops'}, {'id': 'pHRxajJXiMVa', 'ref': '97f379aa-6c80-4a9d-8aa1-c336b0f45b25', 'label': 'Farmers Markets'}]}, {'id': 'p5g6IGr1xSIS', 'ref': '723bdef5-f7a7-4747-8643-d0fde62400cc', 'type': 'long_text', 'title': '*Anything you would like to share with us? *', 'properties': {}}, {'id': 'EUenjPvmQpfG', 'ref': '0380f1d3-a1b5-46a5-a110-438448304d4d', 'type': 'dropdown', 'title': '*Thanks for taking the survey **{{field:596e32db-f5ef-422a-85b0-1e64723cff81}}**! How long would you like your show to be? *', 'properties': {}, 'choices': [{'id': 'W9mRBg08VOSa', 'ref': '3c536dcc-48a6-4626-9ba4-3aaef83a4937', 'label': '30 seconds'}, {'id': 'd2S7597asPP4', 'ref': 'bba720a5-4da3-43c8-a7b9-50edeb1eceef', 'label': '1 minute'}, {'id': 'LOBBvBbTM48N', 'ref': 'b9cf1034-8d76-417e-9f08-c59b2ca73e59', 'label': '3 minutes'}]}], 'endings': [{'id': 'nVFB6W3muMMW', 'ref': '1ec8a4a5-9882-4196-bfc5-ab69f5f041bf', 'title': '', 'type': 'thankyou_screen', 'properties': {'button_text': 'Create a typeform', 'show_button': True, 'share_icons': True, 'button_mode': 'default_redirect'}}]}, 'answers': [{'type': 'text', 'text': 'Lorem ipsum dolor', 'field': {'id': 'cyC2jup2h9qd', 'type': 'short_text', 'ref': '596e32db-f5ef-422a-85b0-1e64723cff81'}}, {'type': 'text', 'text': 'Lorem ipsum dolor', 'field': {'id': 'Ap9DQevjbydK', 'type': 'short_text', 'ref': '8b4f0707-c312-4658-94b0-d215a63fced2'}}, {'type': 'phone_number', 'phone_number': '+34123456789', 'field': {'id': 'eZm0OtqIP460', 'type': 'phone_number', 'ref': '600b2743-94a4-49bd-a9e9-2651313a9c5f'}}, {'type': 'email', 'email': 'an_account@example.com', 'field': {'id': 'RWH1jVaQrbdz', 'type': 'email', 'ref': 'dfe478d9-e2e2-4e75-9623-6280b9567724'}}, {'type': 'choice', 'choice': {'id': 'DY3CZULWgArZ', 'label': 'Chicago', 'ref': '7e0667be-b148-4ae8-81f1-bc21e9018cfd'}, 'field': {'id': 'rAKa2WQMixJL', 'type': 'picture_choice', 'ref': '86a2d1bb-5371-47bd-9e59-8556125ea162'}}, {'type': 'date', 'date': '2017-02-06', 'field': {'id': 'BY5tjjwQC5lf', 'type': 'date', 'ref': 'f45bdf6c-b2eb-4423-8b8a-1677f4c2fbc1'}}, {'type': 'date', 'date': '2017-02-06', 'field': {'id': 'FCagADf3uRdu', 'type': 'date', 'ref': '50d8c256-abe8-4468-a878-c3c2f642dcdf'}}, {'type': 'choice', 'choice': {'id': 'w52wD6iioWkm', 'label': 'Solo Trip', 'ref': 'c97887f4-1e83-40d2-b7b2-9b1a056455cb'}, 'field': {'id': 'lfeufmbCPCEz', 'type': 'multiple_choice', 'ref': '3dbd47ab-24a4-496a-becc-10b841b746d1'}}, {'type': 'number', 'number': 42, 'field': {'id': 'yvzfhrJGnNd4', 'type': 'number', 'ref': 'ea5b2e23-1a3c-4b23-9587-0636245abe06'}}, {'type': 'choice', 'choice': {'id': 'BimVSZTvqJ3v', 'label': '20 -', 'ref': 'c5dd7c80-6b5a-4707-a393-24b57c2b5dda'}, 'field': {'id': 'r6q2KgYA61uY', 'type': 'dropdown', 'ref': '7000fcfd-d0c5-437b-bd67-c4463afb01c5'}}, {'type': 'choices', 'choices': {'ids': ['DFWczZ8VQnPv', 'b2MHhh4yCSLX'], 'labels': ['Gourmet', 'Chicago Classics'], 'refs': ['39ee64ad-f92c-4bea-826c-7a542382b57b', 'edc95aaf-46ba-4f7b-b3a3-243d8088a9b1']}, 'field': {'id': 'Q0Y2A4gdYYkQ', 'type': 'picture_choice', 'ref': 'e8ebb88d-7395-402b-9730-d34844bf6950'}}, {'type': 'choices', 'choices': {'ids': ['RAo163K3HHEa', 'xlk9gId7gatU'], 'labels': ['Wine & Wineries', 'Cocktails'], 'refs': ['865e0ac6-23ec-434c-bd7f-f7d71d6b075e', '2cf896ba-4624-40bb-ab7b-a4e0e2e59c90']}, 'field': {'id': 'pOVME9ndnwHi', 'type': 'picture_choice', 'ref': 'f4319a26-04b3-48ea-a6fc-af7eabace8f9'}}, {'type': 'choices', 'choices': {'ids': ['NyvgwfeH8n1K', 'W1degYpuqlSV'], 'labels': ['Live Music Venues', 'Clubs'], 'refs': ['da44ecc5-c93e-4bf9-a084-3239aa8970f5', 'cb85ac02-65f1-4380-b1d5-2756864a48d2']}, 'field': {'id': 'i20pTq5YLPG5', 'type': 'picture_choice', 'ref': 'beb9e940-cfa8-4c70-8043-4092017b03d5'}}, {'type': 'choices', 'choices': {'ids': ['cVwjqoEUrCab', 'j563Q4H25KDS'], 'labels': ['Art', 'Immersive Experiences'], 'refs': ['dd0ef2ba-a22e-4de5-919f-ac2c45697c14', '26eae12b-3575-4219-ad81-10c98a1dcc27']}, 'field': {'id': 'UzA7MJW1BXfm', 'type': 'picture_choice', 'ref': '836dea07-5aa2-4738-86dd-3b2b99f1c7bd'}}, {'type': 'choices', 'choices': {'ids': ['OAaDUJP6Qz7g', 'o4190GwSZx4T'], 'labels': ['Outdoor Recreation and Parks', 'Boat Tours & Cruises'], 'refs': ['fff4550f-e27b-4d3b-8185-568069f2dcde', '4ce58af4-f6ea-4467-a9b7-b588b9f4961b']}, 'field': {'id': 'bmbHlysBqST7', 'type': 'picture_choice', 'ref': '0992f5f7-835a-4c24-95d7-b4dc9197c55b'}}, {'type': 'choices', 'choices': {'ids': ['90N9WkGuyBQD', 'sCymfd4s8cLa'], 'labels': ['Kid-Friendly Museums and Attractions', 'Art Galleries'], 'refs': ['42efa109-c100-401e-88c0-956fae91d0fb', '8f4b8d74-9ffe-4b8a-a847-b189b979db39']}, 'field': {'id': 'hf9QYFH3lG1K', 'type': 'picture_choice', 'ref': '918983ce-2859-4f08-8c44-8bf643cfd7ef'}}, {'type': 'choices', 'choices': {'ids': ['ssDNc7DPlTu6', 'Cy9iOi47qerM'], 'labels': ['Shopping', 'Local Markets and Artisanal Shops'], 'refs': ['cbd84dce-bde4-4752-b98d-ff4df3587935', 'b322f66d-b14a-4f2f-a27b-50db6944d50a']}, 'field': {'id': 'IEWD0A9w3mg3', 'type': 'picture_choice', 'ref': '3e1c9fb6-bdd8-4a94-a725-4c4383673952'}}, {'type': 'text', 'text': 'Lorem ipsum dolor', 'field': {'id': 'p5g6IGr1xSIS', 'type': 'long_text', 'ref': '723bdef5-f7a7-4747-8643-d0fde62400cc'}}, {'type': 'choice', 'choice': {'id': 'W9mRBg08VOSa', 'label': '30 seconds', 'ref': '3c536dcc-48a6-4626-9ba4-3aaef83a4937'}, 'field': {'id': 'EUenjPvmQpfG', 'type': 'dropdown', 'ref': '0380f1d3-a1b5-46a5-a110-438448304d4d'}}], 'ending': {'id': 'nVFB6W3muMMW', 'ref': '1ec8a4a5-9882-4196-bfc5-ab69f5f041bf'}}}\n",
            "**Created DataFrame:**\n",
            "          first_name          last_name  phone_number                   email  \\\n",
            "0  Lorem ipsum dolor  Lorem ipsum dolor  +34123456789  an_account@example.com   \n",
            "\n",
            "  travel_city  start_date    end_date group_type  group_size group_age  \\\n",
            "0     Chicago  2017-02-06  2017-02-06  Solo Trip          42      20 -   \n",
            "\n",
            "        pref_dining    pref_beverage pref_entertainment   pref_cultural  \\\n",
            "0  Gourmet, Chicago  Wine, Cocktails        Live, Clubs  Art, Immersive   \n",
            "\n",
            "    pref_outdoor     pref_education        pref_shop            comment  \\\n",
            "0  Outdoor, Boat  Kid-Friendly, Art  Shopping, Local  Lorem ipsum dolor   \n",
            "\n",
            "  video_length                  timestamp  \n",
            "0   30 seconds 2024-06-25 02:41:22.737497  \n"
          ]
        },
        {
          "output_type": "stream",
          "name": "stderr",
          "text": [
            "INFO:werkzeug:127.0.0.1 - - [25/Jun/2024 02:41:23] \"POST /webhook HTTP/1.1\" 200 -\n",
            "INFO:werkzeug:127.0.0.1 - - [25/Jun/2024 02:41:58] \"\u001b[33mGET /apple-touch-icon-precomposed.png HTTP/1.1\u001b[0m\" 404 -\n",
            "INFO:werkzeug:127.0.0.1 - - [25/Jun/2024 02:41:58] \"\u001b[33mGET /apple-touch-icon.png HTTP/1.1\u001b[0m\" 404 -\n",
            "INFO:werkzeug:127.0.0.1 - - [25/Jun/2024 02:41:58] \"\u001b[33mGET /favicon.ico HTTP/1.1\u001b[0m\" 404 -\n"
          ]
        }
      ],
      "source": [
        "from flask import Flask, request, jsonify\n",
        "import pandas as pd\n",
        "from pymongo import MongoClient\n",
        "from datetime import datetime\n",
        "import os\n",
        "from google.colab import userdata\n",
        "# import asyncio\n",
        "# from pyngrok import ngrok\n",
        "\n",
        "class SurveyApp:\n",
        "    def __init__(self, mongo_uri):\n",
        "        try:\n",
        "            self.client = MongoClient(mongo_uri)\n",
        "            self.db = self.client.ateema\n",
        "            self.collection = self.db['survey']\n",
        "            print(\"Successfully connected to MongoDB.\")\n",
        "        except Exception as e:\n",
        "            print(f\"Error connecting to MongoDB: {e}\")\n",
        "            raise\n",
        "\n",
        "    def process_webhook(self, request_data):\n",
        "        print(\"**Received Data:**\")\n",
        "        print(request_data)\n",
        "\n",
        "        def join_labels(labels):\n",
        "            return ', '.join([label.split()[0] for label in labels])\n",
        "\n",
        "        try:\n",
        "            answers = request_data['form_response']['answers']\n",
        "            survey_data = {\n",
        "                'first_name': answers[0]['text'],\n",
        "                'last_name': answers[1]['text'],\n",
        "                'phone_number': answers[2]['phone_number'],\n",
        "                'email': answers[3]['email'],\n",
        "                'travel_city': answers[4]['choice']['label'],\n",
        "                'start_date': answers[5]['date'],\n",
        "                'end_date': answers[6]['date'],\n",
        "                'group_type': answers[7]['choice']['label'],\n",
        "                'group_size': answers[8]['number'],\n",
        "                'group_age': answers[9]['choice']['label'],\n",
        "                'pref_dining': join_labels(answers[10]['choices']['labels']),\n",
        "                'pref_beverage': join_labels(answers[11]['choices']['labels']),\n",
        "                'pref_entertainment': join_labels(answers[12]['choices']['labels']),\n",
        "                'pref_cultural': join_labels(answers[13]['choices']['labels']),\n",
        "                'pref_outdoor': join_labels(answers[14]['choices']['labels']),\n",
        "                'pref_education': join_labels(answers[15]['choices']['labels']),\n",
        "                'pref_shop': join_labels(answers[16]['choices']['labels']),\n",
        "                'comment': answers[17]['text'],\n",
        "                'video_length': answers[18]['choice']['label'],\n",
        "                'timestamp': datetime.utcnow()\n",
        "            }\n",
        "\n",
        "            df = pd.DataFrame([survey_data])\n",
        "            print(\"**Created DataFrame:**\")\n",
        "            print(df)\n",
        "\n",
        "            records = df.to_dict(orient='records')\n",
        "            self.collection.insert_many(records)\n",
        "\n",
        "        except Exception as e:\n",
        "            print(f\"Error processing data: {e}\")\n",
        "\n",
        "    def get_latest_survey_data(self):\n",
        "        try:\n",
        "            latest_data = self.collection.find().sort('timestamp', -1).limit(1)\n",
        "            latest_data = list(latest_data)\n",
        "            if latest_data:\n",
        "                # Convert ObjectId to string\n",
        "                for data in latest_data:\n",
        "                    data['_id'] = str(data['_id'])\n",
        "\n",
        "                df = pd.DataFrame(latest_data)\n",
        "                return df.to_json(orient='records')\n",
        "            else:\n",
        "                return 'No survey data available yet.'\n",
        "        except Exception as e:\n",
        "            print(f\"Error retrieving latest survey data: {e}\")\n",
        "            return 'Internal server error.', 500\n",
        "\n",
        "app = Flask(__name__)\n",
        "# app.config['DEBUG'] = True  # Enable debug mode\n",
        "mongo_uri = userdata.get('mongodb_key')\n",
        "survey_app = SurveyApp(mongo_uri)\n",
        "\n",
        "\n",
        "@app.route(\"/\")\n",
        "def index():\n",
        "    return \"<h1>Hello World</h1>\"\n",
        "\n",
        "@app.route('/webhook', methods=['POST'])\n",
        "def typeform_webhook():\n",
        "    request_data = request.get_json()\n",
        "    survey_app.process_webhook(request_data)\n",
        "    return 'Data received successfully.'\n",
        "\n",
        "@app.route('/get_latest_data', methods=['GET'])\n",
        "def get_latest_survey_data():\n",
        "    result = survey_app.get_latest_survey_data()\n",
        "    return result if isinstance(result, str) else jsonify(result)\n",
        "\n",
        "if __name__ == '__main__':\n",
        "    ngrok.set_auth_token(userdata.get('ngrok_key'))\n",
        "    ngrok_tunnel = ngrok.connect(5000)\n",
        "    print('Public URL:', ngrok_tunnel.public_url)\n",
        "    app.run(port=5000)\n"
      ]
    }
  ],
  "metadata": {
    "colab": {
      "provenance": [],
      "include_colab_link": true
    },
    "kernelspec": {
      "display_name": "Python 3",
      "name": "python3"
    },
    "language_info": {
      "name": "python"
    }
  },
  "nbformat": 4,
  "nbformat_minor": 0
}