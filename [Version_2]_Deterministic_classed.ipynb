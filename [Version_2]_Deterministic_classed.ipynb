{
  "nbformat": 4,
  "nbformat_minor": 0,
  "metadata": {
    "colab": {
      "provenance": [],
      "include_colab_link": true
    },
    "kernelspec": {
      "name": "python3",
      "display_name": "Python 3"
    },
    "language_info": {
      "name": "python"
    }
  },
  "cells": [
    {
      "cell_type": "markdown",
      "metadata": {
        "id": "view-in-github",
        "colab_type": "text"
      },
      "source": [
        "<a href=\"https://colab.research.google.com/github/alexacheui/ateema_capstone/blob/main/%5BVersion_2%5D_Deterministic_classed.ipynb\" target=\"_parent\"><img src=\"https://colab.research.google.com/assets/colab-badge.svg\" alt=\"Open In Colab\"/></a>"
      ]
    },
    {
      "cell_type": "code",
      "execution_count": 2,
      "metadata": {
        "colab": {
          "base_uri": "https://localhost:8080/"
        },
        "id": "rHr_HkPf1Apn",
        "outputId": "6e9d164e-f372-4270-c546-fc4400dc9836"
      },
      "outputs": [
        {
          "output_type": "stream",
          "name": "stdout",
          "text": [
            "Mounted at /content/drive\n"
          ]
        }
      ],
      "source": [
        "from google.colab import drive\n",
        "drive.mount('/content/drive')"
      ]
    },
    {
      "cell_type": "code",
      "source": [
        "import os\n",
        "os.chdir('/content/drive/My Drive/ADSP Capstone/Ateema')"
      ],
      "metadata": {
        "id": "stQFplfE1QEd"
      },
      "execution_count": 3,
      "outputs": []
    },
    {
      "cell_type": "code",
      "source": [
        "!pwd"
      ],
      "metadata": {
        "colab": {
          "base_uri": "https://localhost:8080/"
        },
        "id": "r7_F6P813peM",
        "outputId": "16044b9c-2513-484d-d14b-9d45aa0572e1"
      },
      "execution_count": 4,
      "outputs": [
        {
          "output_type": "stream",
          "name": "stdout",
          "text": [
            "/content/drive/My Drive/ADSP Capstone/Ateema\n"
          ]
        }
      ]
    },
    {
      "cell_type": "code",
      "source": [
        "import re\n",
        "import os\n",
        "import pandas as pd\n",
        "from PIL import Image\n",
        "import requests\n",
        "\n",
        "class RTFProcessor:\n",
        "    def __init__(self, file_path):\n",
        "        self.file_path = file_path\n",
        "\n",
        "    def process_rtf(self):\n",
        "        # Read and clean RTF content\n",
        "        with open(self.file_path, 'r', encoding='utf-8') as file:\n",
        "            content = file.read()\n",
        "\n",
        "        content = re.sub(r'\\\\[a-zA-Z]+\\d*', '', content)  # Remove commands\n",
        "        content = re.sub(r'{|}', '', content)             # Remove braces\n",
        "        content = re.sub(r'\\\\\\*\\\\[^ ]+ ', '', content)    # Remove special characters\n",
        "        content = re.sub(r'\\n|\\r', '', content)           # Remove newlines\n",
        "\n",
        "        # Extract titles and URLs\n",
        "        title_pattern = r'\"Title\": \"(.*?)\"'\n",
        "        url_pattern = r'\"URL\": \"(.*?)\"'\n",
        "        titles = re.findall(title_pattern, content)\n",
        "        urls = re.findall(url_pattern, content)\n",
        "\n",
        "        # Filter out entries with \"No URL available\"\n",
        "        filtered_data = {\"Title\": [], \"URL\": []}\n",
        "        for title, url in zip(titles, urls):\n",
        "            if url != \"No URL available\":\n",
        "                filtered_data[\"Title\"].append(title)\n",
        "                filtered_data[\"URL\"].append(url)\n",
        "\n",
        "        # Create a DataFrame\n",
        "        df = pd.DataFrame(filtered_data)\n",
        "\n",
        "        # Create 'video_image' folder if it doesn't exist\n",
        "        if not os.path.exists('video_image'):\n",
        "            os.makedirs('video_image')\n",
        "\n",
        "        # Download and process images\n",
        "        for index, row in df.iterrows():\n",
        "            title = row['Title'].replace(' ', '_')\n",
        "            url = row['URL']\n",
        "            image_path = os.path.join('video_image', f\"{title}.png\")\n",
        "\n",
        "            # Download the image\n",
        "            response = requests.get(url)\n",
        "            if response.status_code == 200:\n",
        "                with open(image_path, 'wb') as file:\n",
        "                    file.write(response.content)\n",
        "                print(f\"Downloaded: {image_path}\")\n",
        "\n",
        "                # Convert to PNG and save\n",
        "                img = Image.open(image_path).convert(\"RGB\")\n",
        "                png_filename = os.path.splitext(os.path.basename(image_path))[0] + \".png\"\n",
        "                png_path = os.path.join('video_image', png_filename)\n",
        "                img.save(png_path, \"PNG\")\n",
        "                print(f\"Converted and saved: {png_path}\")\n",
        "            else:\n",
        "                print(f\"Failed to download: {image_path}\")\n",
        "\n",
        "if __name__ == \"__main__\":\n",
        "    # Path to the RTF file\n",
        "    file_path = 'Final_Output.rtf'\n",
        "\n",
        "    # Create an instance of the RTFProcessor\n",
        "    processor = RTFProcessor(file_path)\n",
        "\n",
        "    # Process the RTF file\n",
        "    processor.process_rtf()\n"
      ],
      "metadata": {
        "colab": {
          "base_uri": "https://localhost:8080/"
        },
        "id": "mW4ebviCUUWn",
        "outputId": "48d010f3-6b90-4cf1-bfb4-b69eddbe0d35"
      },
      "execution_count": 8,
      "outputs": [
        {
          "output_type": "stream",
          "name": "stdout",
          "text": [
            "Downloaded: video_image/Alinea.png\n",
            "Converted and saved: video_image/Alinea.png\n",
            "Downloaded: video_image/City_Winery.png\n",
            "Converted and saved: video_image/City_Winery.png\n",
            "Downloaded: video_image/The_Art_Institute_of_Chicago.png\n",
            "Converted and saved: video_image/The_Art_Institute_of_Chicago.png\n",
            "Downloaded: video_image/Navy_Pier.png\n",
            "Converted and saved: video_image/Navy_Pier.png\n"
          ]
        }
      ]
    },
    {
      "cell_type": "code",
      "source": [],
      "metadata": {
        "id": "YsM29QRUCki1"
      },
      "execution_count": null,
      "outputs": []
    }
  ]
}